{
 "cells": [
  {
   "cell_type": "code",
   "execution_count": null,
   "metadata": {},
   "outputs": [],
   "source": [
    "# Import tools\n",
    "import numpy as np\n",
    "import pandas as pd\n",
    "import matplotlib.pyplot as plt\n",
    "%matplotlib inline\n",
    "\n",
    "# This allows all the output to show\n",
    "from IPython.core.interactiveshell import InteractiveShell\n",
    "InteractiveShell.ast_node_interactivity = \"all\"\n",
    "\n",
    "# Filter out warning about compatability\n",
    "import warnings\n",
    "warnings.simplefilter('ignore')"
   ]
  },
  {
   "cell_type": "code",
   "execution_count": null,
   "metadata": {},
   "outputs": [],
   "source": [
    "# Import all the data and store it as key, value pair in a dictionary\n",
    "# Access the data like this dict['ds1'] \n",
    "my_file_path = \"../Data/week_2_data/ds{}.csv\"\n",
    "dict = {}\n",
    "for x in range(1,6):\n",
    "     dict[\"ds\" + str(x)] = pd.read_csv(my_file_path.format(x), usecols=[1,2]) \n"
   ]
  },
  {
   "cell_type": "code",
   "execution_count": null,
   "metadata": {},
   "outputs": [],
   "source": [
    "# Importing the model from sklearn\n",
    "from sklearn.linear_model import LinearRegression\n",
    "from sklearn.cross_validation import train_test_split\n",
    "from sklearn.neighbors import KNeighborsRegressor\n",
    "\n",
    "\n",
    "# Model all datasets and plot\n",
    "def dict_knn_regression(data, n_neighbors=2):\n",
    "    \n",
    "    \n",
    "    split_data_arr = []\n",
    "       \n",
    "    for key in data:\n",
    "        X = pd.DataFrame(dict[key]['x'])\n",
    "        y = pd.DataFrame(dict[key]['y'])\n",
    "        \n",
    "        # Most of the below code was from a excercise Tim gave our group. Thanks Tim!\n",
    "        \n",
    "        # Split all data and store it\n",
    "        X_train, X_test, y_train, y_test = train_test_split(X, y, test_size = 0.2, random_state = 0)        \n",
    "           \n",
    "        # This line generates 1000 values from X.min to X.max\n",
    "        # Its used to plot the model prediction\n",
    "        T = np.linspace(data[key].x.min(), data[key].x.max(), 1000)\n",
    "\n",
    "        clf = KNeighborsRegressor(n_neighbors=n_neighbors) #The knn regressor model\n",
    "        trained_model = clf.fit(X,y)\n",
    "        y_ = trained_model.predict(T.reshape(-1,1))\n",
    "        plt.scatter(dict[key].x, dict[key].y)\n",
    "        plt.plot(T, y_, c='b')\n",
    "\n",
    "\n",
    "        plt.title('X vs y (Training)')\n",
    "        plt.xlabel('x')\n",
    "        plt.ylabel('y')\n",
    "        plt.show()\n",
    "        #print('Coefficient: ', trained_model.coef_, 'Intercept: ', trained_model.intercept_)\n",
    "        print('The line we created was accurate {0:.1f}% of the time on the training data, and accurate {1:.1f}% of the time on the test data.'.\n",
    "        format(trained_model.score(X_train, y_train)*100, trained_model.score(X_test, y_test)*100))"
   ]
  },
  {
   "cell_type": "code",
   "execution_count": null,
   "metadata": {},
   "outputs": [],
   "source": [
    "# Run the model for each dataset with train/test split\n",
    "# Dark blue is the prediction line for the training data, a comparsion of the train accuracy\n",
    "# vs test accuracy is printed below each figure\n",
    "\n",
    "n_nearest_neighbors = 80 #Experiment with this value high numbers equal smoother lines\n",
    "dict_knn_regression(dict, n_nearest_neighbors)"
   ]
  }
 ],
 "metadata": {
  "kernelspec": {
   "display_name": "Python 3",
   "language": "python",
   "name": "python3"
  },
  "language_info": {
   "codemirror_mode": {
    "name": "ipython",
    "version": 3
   },
   "file_extension": ".py",
   "mimetype": "text/x-python",
   "name": "python",
   "nbconvert_exporter": "python",
   "pygments_lexer": "ipython3",
   "version": "3.6.4"
  }
 },
 "nbformat": 4,
 "nbformat_minor": 2
}
